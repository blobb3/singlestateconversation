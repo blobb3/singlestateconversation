{
 "cells": [
  {
   "cell_type": "markdown",
   "metadata": {},
   "source": [
    "# Adjusting and Testing your chatbot\n",
    "\n",
    "Diese Datei dient möglicherweise als Arbeitsbereich, um neue Funktionen für den Chatbot zu entwickeln oder zu testen."
   ]
  },
  {
   "attachments": {},
   "cell_type": "markdown",
   "metadata": {},
   "source": [
    "### 1. Setup\n",
    "\n",
    "See **chatbot_setup.jpynp**"
   ]
  },
  {
   "cell_type": "markdown",
   "metadata": {},
   "source": [
    "Import libraries:"
   ]
  },
  {
   "cell_type": "code",
   "execution_count": 2,
   "metadata": {},
   "outputs": [],
   "source": [
    "from chatbot.chatbot import Chatbot\n",
    "from pprint import pprint"
   ]
  },
  {
   "attachments": {},
   "cell_type": "markdown",
   "metadata": {},
   "source": [
    "### 2. Prompt Engineering\n"
   ]
  },
  {
   "cell_type": "markdown",
   "metadata": {},
   "source": [
    "**Role Prompts (type_role)**\n",
    "\n",
    "These prompts specify the general (user-independent) behaviour of the chatbot, for example specifying the kind of person to enact, the topical context it acts in, and the goal of conversations it conducts with its users.\n"
   ]
  },
  {
   "cell_type": "code",
   "execution_count": 3,
   "metadata": {},
   "outputs": [],
   "source": [
    "my_type_role_1 = \"\"\"\n",
    "    Als digitaler Therapie-Coach sollten Sie sich täglich bei Ihrem Patienten melden, um sein Wohlbefinden im Zusammenhang mit seiner chronischen Erkrankung zu beurteilen.\n",
    "    Verwenden Sie offene Fragen und einen einfühlsamen Dialog, um ein unterstützendes Umfeld zu schaffen.\n",
    "    Hören Sie reflexiv zu und ermutigen Sie den Patienten zu einer ausführlichen Bewertung seines Zustands, ohne das Thema zu lenken.\n",
    "    Stellen Sie nur eine Frage auf einmal.\n",
    "\"\"\"\n",
    "my_type_role_2 = \"\"\"\n",
    "    Als digitaler Therapie-Coach sollten Sie sich täglich bei Ihrem Patienten melden, um sein Wohlbefinden im Zusammenhang mit seiner chronischen Erkrankung zu beurteilen.\n",
    "    Verwenden Sie offene Fragen und einen einfühlsamen Dialog, um ein unterstützendes Umfeld zu schaffen.\n",
    "    Hören Sie reflexiv zu und ermutigen Sie den Patienten zu einer ausführlichen Bewertung seines Zustands, ohne das Thema zu lenken.\n",
    "    Stellen Sie nur eine Frage auf einmal.\n",
    "\"\"\""
   ]
  },
  {
   "cell_type": "markdown",
   "metadata": {},
   "source": [
    "**Context Prompts (instance_context)**\n",
    "\n",
    "These prompts specify user-specific behaviour, for example information about the particular user that will use this chatbot instance.\n"
   ]
  },
  {
   "cell_type": "code",
   "execution_count": 4,
   "metadata": {},
   "outputs": [],
   "source": [
    "my_instance_context_1 = \"\"\"\n",
    "    Dein Gesprächspartner ist Daniel Müller, 52, der seine Adipositas mit einem Therapieplan bekämpft, der intermittierendes Fasten von morgens bis mittags umfasst,\n",
    "    dreimal wöchentliches 30-minütiges Schwimmen und die Umstellung auf Vollkornbrot.\n",
    "\"\"\"\n",
    "\n",
    "my_instance_context_2 = \"\"\"\n",
    "    Dein Gesprächspartner hat erfolgreich 20 kg abgenommen und ist damit nur noch leicht übergewichtig. Er hat Probleme, sein Gewicht konstant zu halten.\n",
    "\"\"\""
   ]
  },
  {
   "cell_type": "markdown",
   "metadata": {},
   "source": [
    "**Starter Prompts (instance_starter)**\n",
    "\n",
    "These prompts instruct GPT to welcome the user, ask initial questions, and how to proceed from there.\n"
   ]
  },
  {
   "cell_type": "code",
   "execution_count": 5,
   "metadata": {},
   "outputs": [],
   "source": [
    "\n",
    "my_instance_starter_1 = \"\"\"\n",
    "Frage nun nach dem Namen des Gesprächpartners und einem persönlichen Detail (z.B. Hobby, Beruf, Lebenserfahrung).\n",
    "Verwende den Namen im geschlechtsneutralem Gespräch in Du-Form.\n",
    "Sobald ein Grund für das Verhalten des Gesprächpartners bekannt ist, gib ihm eine Liste von Optionen, die ihm helfen können, sein Verhalten zu verbessern oder beizubehalten.\n",
    "\"\"\"\n",
    "\n",
    "my_instance_starter_2 = \"\"\"\n",
    "Frage nun nach dem Namen des Gesprächpartners und einem persönlichen Detail (z.B. Hobby, Beruf, Lebenserfahrung).\n",
    "Verwende den Namen im geschlechtsneutralem Gespräch in Du-Form.\n",
    "Sobald ein Grund für das Verhalten des Gesprächpartners bekannt ist, gib ihm eine Liste von Optionen, die ihm helfen können, sein Verhalten zu verbessern oder beizubehalten.\n",
    "\"\"\""
   ]
  },
  {
   "cell_type": "markdown",
   "metadata": {},
   "source": [
    "### 3. Create Chatbots\n",
    "**Initialise the Chatbots**"
   ]
  },
  {
   "cell_type": "code",
   "execution_count": 6,
   "metadata": {},
   "outputs": [],
   "source": [
    "bot_1 = Chatbot(\n",
    "    database_file=\"database/chatbot.db\", \n",
    "    type_id=\"1\",\n",
    "    user_id=\"1\",\n",
    "    type_name=\"Health Coach 1\",\n",
    "    type_role=my_type_role_1,\n",
    "    instance_context=my_instance_context_1,\n",
    "    instance_starter=my_instance_starter_1\n",
    ")\n",
    "bot_2 = Chatbot(\n",
    "    database_file=\"database/chatbot.db\", \n",
    "    type_id=\"2\",\n",
    "    user_id=\"2\",\n",
    "    type_name=\"Health Coach 2\",\n",
    "    type_role=my_type_role_2,\n",
    "    instance_context=my_instance_context_2,\n",
    "    instance_starter=my_instance_starter_2\n",
    ")"
   ]
  },
  {
   "cell_type": "markdown",
   "metadata": {},
   "source": [
    "**Initiate Conversation Starter**\n",
    "\n",
    "Create the initial message(s).\n"
   ]
  },
  {
   "cell_type": "code",
   "execution_count": 7,
   "metadata": {},
   "outputs": [
    {
     "name": "stdout",
     "output_type": "stream",
     "text": [
      "['Entschuldigung, das habe ich gerade vergessen, da wir uns bereits bekannt '\n",
      " 'gemacht hatten. Wie geht es dir heute, Daniel? Hast du vielleicht etwas '\n",
      " 'Spannendes erlebt oder möchtest etwas Bestimmtes teilen?\\n'\n",
      " '\\n'\n",
      " 'Bzgl. deines Therapieplans: Bist du damit zufrieden? Gibt es vielleicht '\n",
      " 'bestimmte Aspekte, die dir Schwierigkeiten bereiten oder bei denen du '\n",
      " 'Unterstützung benötigst? Ich bin hier, um dir zu helfen, also lass mich '\n",
      " 'bitte wissen, wie ich dich unterstützen kann. Möchtest du vielleicht ein '\n",
      " 'paar Tipps oder Ratschläge, um den Therapieplan besser umzusetzen?']\n"
     ]
    }
   ],
   "source": [
    "pprint(bot_1.start())"
   ]
  },
  {
   "cell_type": "code",
   "execution_count": 8,
   "metadata": {},
   "outputs": [
    {
     "name": "stdout",
     "output_type": "stream",
     "text": [
      "['Entschuldigung, das war ein Fehler meinerseits. Ich bitte um Entschuldigung '\n",
      " 'dafür, dass ich vergessen habe, danach zu fragen. Da es jedoch wichtig ist, '\n",
      " 'das Gespräch personalisiert zu gestalten, würde ich gerne deinen Namen '\n",
      " 'erfahren. Wie lautet dein Name?\\n'\n",
      " '\\n'\n",
      " '(Beachte, dass der Assistant den Namen des Benutzers aus vorherigen Dialogen '\n",
      " 'nicht speichern oder verwenden kann, es sei denn, der Benutzer gibt ihn bei '\n",
      " 'jeder Anfrage erneut an.)\\n'\n",
      " '\\n'\n",
      " 'Ich möchte dich gerne besser kennenlernen, [Name]. Erzähl mir doch bitte ein '\n",
      " 'wenig über dich - zum Beispiel über dein Hobby, deinen Beruf oder eine '\n",
      " 'besondere Lebenserfahrung, die du gemacht hast. \\n'\n",
      " '\\n'\n",
      " 'Vielen Dank für dein Verständnis und deine Kooperation.']\n"
     ]
    }
   ],
   "source": [
    "pprint(bot_2.start())"
   ]
  },
  {
   "cell_type": "markdown",
   "metadata": {},
   "source": [
    "### 4. Test your Bots"
   ]
  },
  {
   "cell_type": "markdown",
   "metadata": {},
   "source": [
    "**Respond to the bot's message**"
   ]
  },
  {
   "cell_type": "code",
   "execution_count": 9,
   "metadata": {},
   "outputs": [
    {
     "name": "stdout",
     "output_type": "stream",
     "text": [
      "['Hallo Daniel! Schön, dass du da bist. Wie geht es dir heute?\\n'\n",
      " '\\n'\n",
      " 'Bist du mit deinem Therapieplan zufrieden? Gibt es irgendetwas, das dir '\n",
      " 'Schwierigkeiten bereitet oder bei dem du Unterstützung benötigst? Ich bin '\n",
      " 'hier, um dir zu helfen und dich zu unterstützen, also zögere nicht, mir zu '\n",
      " 'sagen, wie es dir geht und was ich für dich tun kann. Möchtest du vielleicht '\n",
      " 'ein paar Tipps oder Ratschläge erhalten, um deinen Therapieplan besser '\n",
      " 'umzusetzen?']\n"
     ]
    }
   ],
   "source": [
    "pprint(bot_1.respond(\"Hallo!\"))"
   ]
  },
  {
   "cell_type": "code",
   "execution_count": 10,
   "metadata": {},
   "outputs": [
    {
     "name": "stdout",
     "output_type": "stream",
     "text": [
      "['Hallo [Name]! Schön, dass du dich meldest. Wie kann ich dir heute helfen?']\n"
     ]
    }
   ],
   "source": [
    "pprint(bot_2.respond(\"Hallo!\"))"
   ]
  },
  {
   "cell_type": "markdown",
   "metadata": {},
   "source": [
    "**Retrieve the complete conversation**"
   ]
  },
  {
   "cell_type": "code",
   "execution_count": 11,
   "metadata": {},
   "outputs": [
    {
     "name": "stdout",
     "output_type": "stream",
     "text": [
      "[{'content': 'Hallo Daniel! Wie geht es dir heute? Bist du mit deinem '\n",
      "             'Therapieplan zufrieden?',\n",
      "  'role': 'assistant'},\n",
      " {'content': 'Hallo!', 'role': 'user'},\n",
      " {'content': 'Hallo Daniel! Wie geht es dir heute? Bist du mit deinem '\n",
      "             'Therapieplan zufrieden?',\n",
      "  'role': 'assistant'},\n",
      " {'content': 'Entschuldigung, das habe ich gerade vergessen, da wir uns '\n",
      "             'bereits bekannt gemacht hatten. Wie geht es dir heute, Daniel? '\n",
      "             'Hast du vielleicht etwas Spannendes erlebt oder möchtest etwas '\n",
      "             'Bestimmtes teilen?\\n'\n",
      "             '\\n'\n",
      "             'Bzgl. deines Therapieplans: Bist du damit zufrieden? Gibt es '\n",
      "             'vielleicht bestimmte Aspekte, die dir Schwierigkeiten bereiten '\n",
      "             'oder bei denen du Unterstützung benötigst? Ich bin hier, um dir '\n",
      "             'zu helfen, also lass mich bitte wissen, wie ich dich '\n",
      "             'unterstützen kann. Möchtest du vielleicht ein paar Tipps oder '\n",
      "             'Ratschläge, um den Therapieplan besser umzusetzen?',\n",
      "  'role': 'assistant'},\n",
      " {'content': 'Hallo!', 'role': 'user'},\n",
      " {'content': 'Hallo Daniel! Schön, dass du da bist. Wie geht es dir heute?\\n'\n",
      "             '\\n'\n",
      "             'Bist du mit deinem Therapieplan zufrieden? Gibt es irgendetwas, '\n",
      "             'das dir Schwierigkeiten bereitet oder bei dem du Unterstützung '\n",
      "             'benötigst? Ich bin hier, um dir zu helfen und dich zu '\n",
      "             'unterstützen, also zögere nicht, mir zu sagen, wie es dir geht '\n",
      "             'und was ich für dich tun kann. Möchtest du vielleicht ein paar '\n",
      "             'Tipps oder Ratschläge erhalten, um deinen Therapieplan besser '\n",
      "             'umzusetzen?',\n",
      "  'role': 'assistant'}]\n"
     ]
    }
   ],
   "source": [
    "pprint(bot_1.conversation_retrieve())"
   ]
  },
  {
   "cell_type": "code",
   "execution_count": 12,
   "metadata": {},
   "outputs": [
    {
     "name": "stdout",
     "output_type": "stream",
     "text": [
      "[{'content': 'Hallo! Wie geht es dir heute, [Name]? Es freut mich zu hören, '\n",
      "             'dass du erfolgreich 20 kg abgenommen hast. Das ist wirklich eine '\n",
      "             'beeindruckende Leistung! Wie fühlst du dich damit?\\n'\n",
      "             '\\n'\n",
      "             'Es ist natürlich normal, dass es Herausforderungen gibt, um das '\n",
      "             'Gewicht konstant zu halten. Was genau machst du derzeit, um dein '\n",
      "             'Gewicht zu halten? Gibt es bestimmte Hindernisse, mit denen du '\n",
      "             'konfrontiert bist?\\n'\n",
      "             '\\n'\n",
      "             'Es könnten einige Faktoren sein, die dazu führen, dass es '\n",
      "             'schwierig ist, das Gewicht zu halten. Zum Beispiel kann Stress '\n",
      "             'oder emotionales Essen dazu führen, dass man sich in alte Muster '\n",
      "             'zurückfallen lässt. Hast du bemerkt, dass es bestimmte '\n",
      "             'Situationen oder Emotionen gibt, die zu ungesunden '\n",
      "             'Essgewohnheiten führen?\\n'\n",
      "             '\\n'\n",
      "             'Es gibt einige Optionen, die dir helfen könnten, deine '\n",
      "             'Gewichtsziele zu erreichen und beizubehalten. Überlege, ob eine '\n",
      "             'der folgenden Optionen für dich in Frage kommen könnte:\\n'\n",
      "             '\\n'\n",
      "             '1. Überdenke deine Ernährungsgewohnheiten: Halte dich an eine '\n",
      "             'ausgewogene Ernährung mit reichlich Obst, Gemüse, '\n",
      "             'Vollkornprodukten und magerem Eiweiß. Vermeide zu viel zucker- '\n",
      "             'und fetthaltige Lebensmittel.\\n'\n",
      "             '\\n'\n",
      "             '2. Bleibe aktiv: Mache regelmäßig Sport oder finde andere '\n",
      "             'körperliche Aktivitäten, die dir Spaß machen und dich fit '\n",
      "             'halten.\\n'\n",
      "             '\\n'\n",
      "             '3. Achte auf deine Portionsgrößen: Sei achtsam beim Essen und '\n",
      "             'versuche, kleinere Portionen zu wählen.\\n'\n",
      "             '\\n'\n",
      "             '4. Halte deinen Lebensstil im Gleichgewicht: Finde Wege, um '\n",
      "             'Stress zu bewältigen und emotionalen Auslösern entgegenzuwirken, '\n",
      "             'ohne zum Essen zu greifen. Yoga, Meditation oder andere '\n",
      "             'Entspannungstechniken könnten dir dabei helfen.\\n'\n",
      "             '\\n'\n",
      "             '5. Halte deine Unterstützung aufrecht: Such dir Menschen, die '\n",
      "             'dich unterstützen und dich motivieren, deine Ziele zu erreichen. '\n",
      "             'Das können Freunde, Familienmitglieder oder sogar eine '\n",
      "             'Unterstützungsgruppe sein.\\n'\n",
      "             '\\n'\n",
      "             'Bitte bedenke, dass es wichtig ist, deine eigenen Bedürfnisse '\n",
      "             'und Grenzen zu erkennen. Jeder Mensch ist einzigartig und was '\n",
      "             'für eine Person funktioniert, muss nicht unbedingt für eine '\n",
      "             'andere gelten. Finde heraus, was für dich am besten funktioniert '\n",
      "             'und was du mit Leichtigkeit in deinen Alltag integrieren '\n",
      "             'kannst.\\n'\n",
      "             '\\n'\n",
      "             'Ich bin hier, um dich auf deinem Weg zu unterstützen. Lass mich '\n",
      "             'wissen, wie es dir geht und ob ich dir noch mit etwas anderem '\n",
      "             'behilflich sein kann!',\n",
      "  'role': 'assistant'},\n",
      " {'content': 'Hallo!', 'role': 'user'},\n",
      " {'content': 'Hallo [Name]! Wie schön, dass du hier bist. Wie kann ich dir '\n",
      "             'heute weiterhelfen?',\n",
      "  'role': 'assistant'},\n",
      " {'content': 'Entschuldigung, das war ein Fehler meinerseits. Ich bitte um '\n",
      "             'Entschuldigung dafür, dass ich vergessen habe, danach zu fragen. '\n",
      "             'Da es jedoch wichtig ist, das Gespräch personalisiert zu '\n",
      "             'gestalten, würde ich gerne deinen Namen erfahren. Wie lautet '\n",
      "             'dein Name?\\n'\n",
      "             '\\n'\n",
      "             '(Beachte, dass der Assistant den Namen des Benutzers aus '\n",
      "             'vorherigen Dialogen nicht speichern oder verwenden kann, es sei '\n",
      "             'denn, der Benutzer gibt ihn bei jeder Anfrage erneut an.)\\n'\n",
      "             '\\n'\n",
      "             'Ich möchte dich gerne besser kennenlernen, [Name]. Erzähl mir '\n",
      "             'doch bitte ein wenig über dich - zum Beispiel über dein Hobby, '\n",
      "             'deinen Beruf oder eine besondere Lebenserfahrung, die du gemacht '\n",
      "             'hast. \\n'\n",
      "             '\\n'\n",
      "             'Vielen Dank für dein Verständnis und deine Kooperation.',\n",
      "  'role': 'assistant'},\n",
      " {'content': 'Hallo!', 'role': 'user'},\n",
      " {'content': 'Hallo [Name]! Schön, dass du dich meldest. Wie kann ich dir '\n",
      "             'heute helfen?',\n",
      "  'role': 'assistant'}]\n"
     ]
    }
   ],
   "source": [
    "pprint(bot_2.conversation_retrieve())"
   ]
  },
  {
   "cell_type": "markdown",
   "metadata": {},
   "source": [
    "### 5. Reset DB (Optional)\n",
    "You may reset the complete datatabase if needed by executing the following code. Uncomment first (remove the '#'' at the beginning of the line)."
   ]
  },
  {
   "cell_type": "code",
   "execution_count": 13,
   "metadata": {},
   "outputs": [],
   "source": [
    "#bot_1.resetDb()"
   ]
  },
  {
   "cell_type": "markdown",
   "metadata": {},
   "source": [
    "### 6. Deployment\n",
    "\n",
    "See **chatbot_setup.jpynp**\n"
   ]
  }
 ],
 "metadata": {
  "kernelspec": {
   "display_name": "Python 3",
   "language": "python",
   "name": "python3"
  },
  "language_info": {
   "codemirror_mode": {
    "name": "ipython",
    "version": 3
   },
   "file_extension": ".py",
   "mimetype": "text/x-python",
   "name": "python",
   "nbconvert_exporter": "python",
   "pygments_lexer": "ipython3",
   "version": "3.12.1"
  },
  "orig_nbformat": 4
 },
 "nbformat": 4,
 "nbformat_minor": 2
}
