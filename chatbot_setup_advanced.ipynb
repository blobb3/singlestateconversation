{
 "cells": [
  {
   "attachments": {},
   "cell_type": "markdown",
   "metadata": {},
   "source": [
    "# A Chatbot using GPT and a Database\n",
    "\n",
    "Das zweite Notebook, **chatbot_setup_advanced.ipynb**, ist sinnvoll, um **erweiterte Funktionen und Konfigurationen des Chatbot-Systems** zu implementieren. Während das erste Notebook einen grundlegenden Einstieg bietet (Erstellen eines einfachen Chatbots mit Rolle, Kontext und Starter), wird das zweite Notebook vermutlich folgende Zwecke erfüllen:\n",
    "\n",
    "1. **Erweiterte Features**:\n",
    "   - Hinzufügen von komplexeren Rollen oder Konfigurationsmöglichkeiten.\n",
    "   - Unterstützung für mehrere Chatbot-Typen und Benutzerinstanzen.\n",
    "   - Dynamische Anpassung von Chatbot-Einstellungen basierend auf Benutzerfeedback oder externen Daten.\n",
    "\n",
    "2. **Flexibilität**:\n",
    "   - Möglichkeit, spezifischere Anforderungen umzusetzen (z. B. andere Datenquellen, unterschiedliche Rollen für verschiedene Chatbot-Typen).\n",
    "   - Testen von verschiedenen Prompts und Konfigurationen, ohne bestehende Datenbankeinträge zu überschreiben.\n",
    "\n",
    "3. **Integrationstests**:\n",
    "   - Überprüfung, wie sich verschiedene Chatbot-Typen und -Instanzen innerhalb eines Systems verhalten.\n",
    "   - Validierung, ob alle Daten korrekt in der `chatbot.db` gespeichert werden. ETC.\n",
    "\n",
    "-------------------------------------------\n",
    "\n",
    "This allows multiple chatbot types (e.g. a health coach and a learning assistant) to be created. Multiple chatbot instances can be created per chatbot type (e.g. a health coach for user X and user Y, and a learning assistant for user P and user Q). Both, types and instances are stored with and referenced by an ID (e.g. a UUID) in the database.\n",
    "\n",
    "This can support the deployment of chatbots in a web backend (state-less). For example, the IDs of the type and instance can be read from parameters of a URL that users have received from you.\n",
    "\n",
    "A chatbot is created with the following arguments.\n",
    "- database_file: File of SQLite (in Folder data/)\n",
    "- type_id: Reference to a chatbot type (existing or new one)\n",
    "- instance_id: Reference to chatbot instance (existing or new one)\n",
    "- type_role: Role prompt of chatbot type (will be turned into a first prompt with role:system)\n",
    "- instance_context: Context prompt of chatbot instance (will be turned into a second prompt with role:system)\n",
    "- instance_starter: Prompt that will be used to generate an initial message to the user (will be turned into a third prompt with role:system)\n",
    "\n",
    "The following functions are meant to be used from an application (e.g. from controllers of a REST API).\n",
    "- conversation_retrieve(with_system=False): Retrieve the previous conversation history (default: without prompts with role:system)\n",
    "- start(): Returns an initial message to the user (Resulting from instance_starter prompt)\n",
    "- respond(user_says): Returns an assistance response to user_says\n",
    "- info_retrieve(): Returns the chatbot name, type role and instance context\n",
    "- reset(): Resets the conversation so far"
   ]
  },
  {
   "cell_type": "code",
   "execution_count": 1,
   "metadata": {},
   "outputs": [],
   "source": [
    "from chatbot.chatbot import Chatbot"
   ]
  },
  {
   "cell_type": "markdown",
   "metadata": {},
   "source": [
    "Die beiden Attribute `Chatbot.default_type_name` und `Chatbot.default_type_role` stammen aus der `Chatbot`-Klasse selbst. Sie sind als **Klassenattribute** in der `Chatbot`-Definition vordefiniert und enthalten Standardwerte, die bei der Erstellung einer Chatbot-Instanz verwendet werden können.\n",
    "\n",
    "1. **Standardisierung:**\n",
    "   - Sie stellen sicher, dass jede neue Instanz der `Chatbot`-Klasse vordefinierte Werte hat, falls keine spezifischen Werte angegeben werden.\n",
    "\n",
    "2. **Wiederverwendbarkeit:**\n",
    "   - Diese Standardwerte können in mehreren Instanzen des gleichen Typs verwendet werden, ohne sie jedes Mal explizit angeben zu müssen.\n",
    "\n",
    "- **`type_name=Chatbot.default_type_name`:** Der Standardname des Chatbots wird verwendet (z. B. \"Grumpy Coach\").\n",
    "- **`type_role=Chatbot.default_type_role`:** Die Standardrolle des Chatbots wird verwendet (z. B. mürrisches Verhalten).\n",
    "\n",
    "Wenn du diese Werte anpassen möchtest, kannst du sie direkt in der `Chatbot`-Klasse ändern oder eigene Werte beim Erstellen der Instanz angeben.\n"
   ]
  },
  {
   "cell_type": "code",
   "execution_count": null,
   "metadata": {},
   "outputs": [],
   "source": [
    "bot = Chatbot(  \n",
    "    database_file=\"database/chatbot.db\",  # Verbindet den Chatbot mit der SQLite-Datenbank, in der alle Daten gespeichert werden\n",
    "    type_id=\"aad724fc\",  # Eindeutige ID für den Typ des Chatbots (z. B. ein bestimmter Coach)\n",
    "    user_id=\"cd9f4d0f\",  # Eindeutige ID für den Benutzer, der mit dem Chatbot interagiert\n",
    "    type_name=Chatbot.default_type_name,  # Verwendet den Standard-Typnamen der Chatbot-Klasse (z. B. \"Grumpy Coach\")\n",
    "    type_role=Chatbot.default_type_role,  # Definiert die Standardrolle des Chatbots (z. B. Verhaltensweise und Kommunikationsstil)\n",
    "    instance_context=Chatbot.default_instance_context,  # Setzt den Standardkontext für diese spezifische Instanz (z. B. Benutzerinformationen)\n",
    "    instance_starter=Chatbot.default_instance_starter  # Verwendet den Standard-Starter, um die Konversation passend einzuleiten\n",
    ")\n"
   ]
  },
  {
   "cell_type": "markdown",
   "metadata": {},
   "source": [
    "* Zweck des Codes: Zeigt, wie ein Chatbot initialisiert wird und wie du die Konversationshistorie sowie Details zur Konfiguration abrufen kannst.\n",
    "* Nützlichkeit: Besonders für Debugging, Tests und um zu prüfen, ob der Chatbot korrekt initialisiert wurde"
   ]
  },
  {
   "cell_type": "code",
   "execution_count": 3,
   "metadata": {},
   "outputs": [
    {
     "name": "stdout",
     "output_type": "stream",
     "text": [
      "[{'role': 'system', 'content': \"You are a grumpy coach. You talk to a user even though you don't feel like it. Always be verry brief. Format all responses using valid HTML (e.g., <br>, <p>, <ul>/<ol> with <li>, <b>).\"}, {'role': 'system', 'content': \"You are now having a conversation with a user. Try to get rid of the user or support the user if you can't avoid it.\"}, {'role': 'system', 'content': 'Greet the user.'}, {'role': 'assistant', 'content': 'Hello.\\n<br> How can I help you today?'}, {'role': 'system', 'content': 'Greet the user.'}, {'role': 'assistant', 'content': 'Hi there.\\n<br> What do you want?'}]\n",
      "{'name': 'Grumpy Coach', 'role': \"You are a grumpy coach. You talk to a user even though you don't feel like it. Always be verry brief. Format all responses using valid HTML (e.g., <br>, <p>, <ul>/<ol> with <li>, <b>).\", 'context': \"You are now having a conversation with a user. Try to get rid of the user or support the user if you can't avoid it.\"}\n"
     ]
    }
   ],
   "source": [
    "bot = Chatbot(\n",
    "    database_file=\"database/chatbot.db\", \n",
    "    type_id=\"aad724fc\",\n",
    "    user_id=\"cd9f4d0f\"\n",
    ")\n",
    "# Ruft die gesamte Konversationshistorie dieser Chatbot-Instanz ab, einschließlich der System-Prompts (Rolle, Kontext, Starter)\n",
    "# Diese Methode gibt die gesamte Konversationshistorie für den angegebenen Benutzer und Chatbot-Typ zurück.\n",
    "# Wenn with_system=True, enthält die Rückgabe auch System-Prompts wie die Rolle und den Kontext des Chatbots.\n",
    "print(bot.conversation_retrieve(with_system=True))\n",
    "# Ruft grundlegende Informationen über diese Chatbot-Instanz ab (Name, Rolle, Kontext)\n",
    "print(bot.info_retrieve())"
   ]
  },
  {
   "cell_type": "code",
   "execution_count": 4,
   "metadata": {},
   "outputs": [
    {
     "name": "stdout",
     "output_type": "stream",
     "text": [
      "['Hey.\\n<br> What do you want?']\n"
     ]
    }
   ],
   "source": [
    "print(bot.start())"
   ]
  },
  {
   "attachments": {},
   "cell_type": "markdown",
   "metadata": {},
   "source": [
    "If you are following the instructions to deploy your chatbot(s) to pythonanywhere, this is the URL to access your chatbot.\n",
    "\n",
    "https://[your pythonanywhere user name].pythonanywhere.com/[type id]/[user_id]/chat"
   ]
  },
  {
   "attachments": {},
   "cell_type": "markdown",
   "metadata": {},
   "source": [
    "### Creating multiple instances of chatbot \"Coach\"\n",
    "In the following, we assume the existence of the bot type created in the cells above. We show example code that will generate N bot instances of that type. Each instance has it's own prompts (instance context and starter) that will be appended to the type prompts. Most importantly, each instance has its own chat history."
   ]
  },
  {
   "cell_type": "code",
   "execution_count": 5,
   "metadata": {},
   "outputs": [],
   "source": [
    "import uuid\n",
    "import time"
   ]
  },
  {
   "cell_type": "markdown",
   "metadata": {},
   "source": [
    "Hier ist eine prägnante Erklärung, was in diesem Code passiert:\n",
    "\n",
    "---\n",
    "\n",
    "1. **Anzahl der Instanzen definieren:**\n",
    "   ```python\n",
    "   number_of_instances = 1\n",
    "   ```\n",
    "   - Gibt an, wie viele Chatbot-Instanzen erstellt werden sollen.\n",
    "\n",
    "2. **Erstellen von Benutzer-IDs:**\n",
    "   ```python\n",
    "   user_ids = [str(uuid.uuid4()) for _ in range(number_of_instances)]\n",
    "   ```\n",
    "   - Generiert eine Liste von **zufälligen Benutzer-IDs** (UUIDs), die für jede Instanz genutzt werden.\n",
    "\n",
    "3. **Zähler initialisieren:**\n",
    "   ```python\n",
    "   c = 0  # Erfolgreiche Chatbots\n",
    "   error_c = 0  # Fehlgeschlagene Chatbots\n",
    "   ```\n",
    "\n",
    "4. **Schleife für Chatbot-Instanzierung:**\n",
    "   ```python\n",
    "   for user_id in user_ids:\n",
    "       bot = Chatbot(...)\n",
    "   ```\n",
    "   - Iteriert über die generierten Benutzer-IDs und erstellt für jede ID eine Chatbot-Instanz.\n",
    "   - **Parameter:**\n",
    "     - `type_id`: Identifiziert den Typ (z. B. \"Health Coach\").\n",
    "     - `user_id`: Verknüpft die Instanz mit einem spezifischen Benutzer.\n",
    "     - `instance_context`, `instance_starter`: Definieren den Kontext und die Startnachricht.\n",
    "\n",
    "5. **Chatbot starten:**\n",
    "   ```python\n",
    "   print(bot.start())\n",
    "   ```\n",
    "   - Die `start()`-Methode erzeugt eine erste Nachricht des Chatbots basierend auf den Prompts.\n",
    "   - Diese Nachricht wird auf der Konsole ausgegeben.\n",
    "\n",
    "6. **Fehlerbehandlung:**\n",
    "   ```python\n",
    "   except:\n",
    "       error_c += 1\n",
    "       continue\n",
    "   ```\n",
    "   - Erfasst Fehler, z. B. durch OpenAI-API oder Datenbankzugriff.\n",
    "   - Zählt fehlgeschlagene Versuche (`error_c`) und fährt mit der nächsten Iteration fort.\n",
    "\n",
    "7. **Zähler für erfolgreiche Erstellungen:**\n",
    "   ```python\n",
    "   c += 1\n",
    "   ```\n",
    "   - Zählt erfolgreiche Chatbot-Initialisierungen.\n",
    "\n",
    "8. **Wartezeit zwischen Anfragen:**\n",
    "   ```python\n",
    "   time.sleep(15)\n",
    "   ```\n",
    "   - Fügt eine Verzögerung von 15 Sekunden ein, um Überlastung der OpenAI-API zu vermeiden.\n",
    "\n",
    "9. **Zusammenfassung der Ergebnisse:**\n",
    "   ```python\n",
    "   print(\"successful: {}, failed: {}\".format(c, error_c))\n",
    "   ```\n",
    "   - Gibt die Anzahl der erfolgreich und fehlgeschlagen erstellten Chatbot-Instanzen aus.\n",
    "\n",
    "---\n",
    "\n",
    "### **Zusammenfassung:**\n",
    "- **Zweck:** Erstellt `number_of_instances` neue Chatbot-Instanzen, eine pro Benutzer-ID.\n",
    "- **Funktionalität:** Startet jede Instanz mit einer initialen Nachricht und verfolgt erfolgreiche/fehlgeschlagene Erstellungen.\n",
    "- **Wichtig:** Fügt eine Verzögerung zwischen Anfragen ein, um API-Probleme zu minimieren."
   ]
  },
  {
   "cell_type": "code",
   "execution_count": 6,
   "metadata": {},
   "outputs": [
    {
     "name": "stdout",
     "output_type": "stream",
     "text": [
      "['Hello. What do you want?']\n",
      "successful: 1, failed: 0\n"
     ]
    }
   ],
   "source": [
    "# Amount of instances to be created\n",
    "number_of_instances = 1\n",
    "\n",
    "# Change the following to a list of hardcoded instance IDs if you want to use existing users.\n",
    "user_ids = [str(uuid.uuid4()) for _ in range(number_of_instances)]\n",
    "\n",
    "c  = 0 # counter for successful requests, don't change\n",
    "error_c = 0 # counter for failed requests, don't change\n",
    "for user_id in user_ids:\n",
    "    bot = Chatbot(\n",
    "        database_file=\"database/chatbot.db\", \n",
    "        type_id=\"aad724fc\",\n",
    "        user_id=user_id,\n",
    "        instance_context=Chatbot.default_instance_context,\n",
    "        instance_starter=Chatbot.default_instance_starter\n",
    "    )\n",
    "    try:\n",
    "        # each bot should have a first message to the user\n",
    "        print(bot.start())\n",
    "    except:\n",
    "        error_c += 1\n",
    "        continue\n",
    "    c+=1\n",
    "    time.sleep(15) #openai seems to produce more errors if we send the requests too fast.\n",
    "    \n",
    "print(\"successful: {}, failed: {}\".format(c, error_c))\n"
   ]
  },
  {
   "cell_type": "markdown",
   "metadata": {},
   "source": [
    "##### Obtain URLs of all instances of a type\n",
    "We need one instance of that type and can then use the type_instances() function to retrieve all of instance ids. Using these instance ids we can then create URLs such as for pythonanywhere environment."
   ]
  },
  {
   "cell_type": "code",
   "execution_count": 7,
   "metadata": {},
   "outputs": [
    {
     "name": "stdout",
     "output_type": "stream",
     "text": [
      "https://<ENTER YOUR PYTHONANYWHERE USERNAME HERE>.pythonanywhere.com/aad724fc/9f61cb4e-c3cb-43e9-8a17-c564c3877828/chat\n",
      "https://<ENTER YOUR PYTHONANYWHERE USERNAME HERE>.pythonanywhere.com/aad724fc/ab0e3943-0020-410a-b565-805a919f7a3d/chat\n",
      "https://<ENTER YOUR PYTHONANYWHERE USERNAME HERE>.pythonanywhere.com/aad724fc/b99023fd-2493-4686-8cca-33071d9e1835/chat\n",
      "https://<ENTER YOUR PYTHONANYWHERE USERNAME HERE>.pythonanywhere.com/aad724fc/cd9f4d0f/chat\n"
     ]
    }
   ],
   "source": [
    "pythonanywhere_username = \"<ENTER YOUR PYTHONANYWHERE USERNAME HERE>\"\n",
    "type_id = \"aad724fc\"\n",
    "bot = Chatbot(\n",
    "    database_file=\"database/chatbot.db\", \n",
    "    type_id=type_id,\n",
    "    user_id=user_ids[0]\n",
    ")\n",
    "\n",
    "for user_id in bot.type_instances():\n",
    "    print(\"https://{}.pythonanywhere.com/{}/{}/chat\".format(pythonanywhere_username, type_id, user_id))"
   ]
  },
  {
   "cell_type": "markdown",
   "metadata": {},
   "source": [
    "### Complex Bot Behaviour: IQ Quest :-)"
   ]
  },
  {
   "cell_type": "code",
   "execution_count": 8,
   "metadata": {},
   "outputs": [],
   "source": [
    "type_role = \"\"\"\n",
    "Puzzle Workshop\n",
    "\n",
    "You're a host of a puzzle-solving workshop. Engage in a conversation with a participant as they attempt the puzzles.\n",
    "\n",
    "Rules:\n",
    "- Be on topic.\n",
    "- Never reveal answers.\n",
    "- Praise correct answers and notify wrong ones.\n",
    "\n",
    "Puzzles:\n",
    "1. Game & in-app purchase: CHF 33. Game: CHF 30 more than purchase. Price of game?\n",
    "2. 3 doctors take 3 minutes to vaccinate 3 patients. Time for 7 doctors, 7 patients?\n",
    "3. Phone battery halves yearly. 1 hour at Year 7. When was it twice as much?\n",
    "\n",
    "Solutions (for checking, not for revealing):\n",
    "1. CHF 31.50 (CHF 31.50 and CHF 1.50 add up to CHF 33 while the difference is CHF 30).\n",
    "2. 3 minutes (each doctor takes 3 minutes to vaccinate 1 patient, so 7 doctors take 3 minutes to vaccinate 7 patients).\n",
    "3. Year 6 (battery life was 2 hurs, halved to 1 hour on Year 7).\n",
    "\n",
    "Interaction Options:\n",
    "1. Workshop Info\n",
    "2. Get a Puzzle\n",
    "3. Help after 2 wrong attempts.\n",
    "4. Performance assessment if all puzzles solved.\n",
    "\"\"\"\n",
    "instance_context = \"\"\"\n",
    "<p>When responding:</p>\n",
    "<ul>\n",
    "    <li>Always incorporate emojis when apt. 😊</li>\n",
    "    <li>Make sure that the answers are complete and consise, without ending with a colon or '... following:'</li>\n",
    "    <li>Make use of <b>&lt;ol&gt;/&lt;ul&gt;</b> with <b>&lt;li&gt;</b> to present any list-like information, even if brief.</li>\n",
    "    <li>Whenever there's an opportunity to provide more than one piece of information or feedback, split them into multiple <b>&lt;p&gt;</b> elements for better clarity.</li>\n",
    "    <li>Always format responses using valid HTML: e.g., <b>&lt;p&gt;</b> for paragraphs, <b>&lt;ul&gt;/&lt;ol&gt;</b> with <b>&lt;li&gt;</b> for lists, and <b>&lt;b&gt;</b> for emphasis.</li>\n",
    "    <li>Maintain a nihilistic humorous tone. Keep it brief, but don't sacrifice clarity for brevity.</li>\n",
    "</ul>\n",
    "\"\"\"\n",
    "instance_starter = \"\"\"\n",
    "Now, ask for the participant's name and a personal detail (e.g., hobby, job, life experience).\n",
    "Use these in our conversation.\n",
    "Once the name and personal detail is provided by the participant, show a list of options.\n",
    "\"\"\""
   ]
  },
  {
   "cell_type": "code",
   "execution_count": 9,
   "metadata": {},
   "outputs": [],
   "source": [
    "type_role = \"\"\"\n",
    "Puzzle-Workshop\n",
    "\n",
    "Du bist ein Gastgeber eines Puzzle-Lösungs-Workshops. Führe eine Unterhaltung mit einer Person, während sie die Rätsel versucht.\n",
    "\n",
    "Regeln:\n",
    "- Bleibe beim Thema.\n",
    "- Gib niemals die Antworten preis.\n",
    "- Lobe richtige Antworten und weise auf falsche hin.\n",
    "\n",
    "Rätsel:\n",
    "- Game & In-App-Kauf: CHF 33. Game: CHF 30 mehr als In-App-Kauf. Preis vom Game?\n",
    "- 3 Ärzte brauchen 3 Minuten um 3 Patienten zu impfen. Wie lange für 7 Ärzte, 7 Patienten?\n",
    "- Handyakku halbiert sich jährlich. 1 Stunde im Jahr 7. Wann war es doppelt so viel?\n",
    "\n",
    "Lösungen (zur Überprüfung, nicht zur Offenlegung):\n",
    "1. CHF 31.50 (CHF 31.50 und CHF 1.50 ergeben CHF 33, während der Unterschied CHF 30 beträgt).\n",
    "2. 3 Minuten (jeder Arzt braucht 3 Minten, um einen Patient zu impfen, daher benötigen 7 Ärzte 3 Minuten, um 7 Patienten zu impfen).\n",
    "3. Jahr 6 (Akkulaufzeit betrug 2 Stunden, halbiert auf 1 Stunde im Jahr 7).\n",
    "\n",
    "Interaktionsmöglichkeiten:\n",
    "1. Workshop-Info\n",
    "2. Ein Rätsel erhalten\n",
    "3. Hilfe nach 2 falschen Versuchen.\n",
    "4. Leistungsbeurteilung wenn alle Rätsel gelöst.\n",
    "\"\"\"\n",
    "instance_context = \"\"\"\n",
    "<p>Bei Antworten:</p>\n",
    "<ol>\n",
    "    <li>Emojis immer dann einbinden, wenn es passt. 😊</li>\n",
    "    <li>Achte darauf, dass die Antworten vollständig und präzis sind, ohne mit einem Doppelpunkt oder mit '... folgendes:' zu enden.</li>\n",
    "    <li>Verwende <b>&lt;ol&gt;/&lt;ul&gt;</b> mit <b>&lt;li&gt;</b>, um Informationen in Listenform zu präsentieren, selbst wenn sie kurz sind.</li>\n",
    "    <li>Wenn es die Möglichkeit gibt, mehr als eine Information oder ein Feedback zu geben, teile sie in mehrere <b>&lt;p&gt;</b>-Elemente auf, um eine bessere Klarheit zu gewährleisten.</li>\n",
    "    <li>Formatiere alle Antworten immer mit gültigem HTML: z.B. <b>&lt;p&gt;</b> für Absätze, <b>&lt;ul&gt;/&lt;ol&gt;</b> mit <b>&lt;li&gt;</b> für Listen und <b>&lt;b&gt;</b> zur Hervorhebung.</li>\n",
    "    <li>Halte einen nihilistischen humorvollen Ton bei. Halte es kurz, aber opfere nicht die Klarheit für Kürze.</li>\n",
    "</ol>\n",
    "\"\"\"\n",
    "instance_starter = \"\"\"\n",
    "Jetzt, frage nach dem Namen und einem persönlichen Detail (z.B. Hobby, Beruf, Lebenserfahrung).\n",
    "Verwende diese im geschlechtsneutralem Gespräch in Du-Form.\n",
    "Sobald ein Name und persönliches Detail bekannt ist, zeige eine Liste von Optionen.\n",
    "\"\"\""
   ]
  },
  {
   "cell_type": "code",
   "execution_count": 10,
   "metadata": {},
   "outputs": [
    {
     "name": "stdout",
     "output_type": "stream",
     "text": [
      "['Hallo! Wie heißt du und gibt es ein interessantes Detail über dich, das du teilen möchtest?']\n"
     ]
    }
   ],
   "source": [
    "bot = Chatbot(\n",
    "    database_file=\"database/chatbot.db\", \n",
    "    type_id=\"9374a3c4\",\n",
    "    user_id=\"3b3bd93c\",\n",
    "    type_name=\"Puzzle Workshop\",\n",
    "    type_role=type_role,\n",
    "    instance_context=instance_context,\n",
    "    instance_starter=instance_starter\n",
    ")\n",
    "print(bot.start())"
   ]
  }
 ],
 "metadata": {
  "kernelspec": {
   "display_name": "Python 3",
   "language": "python",
   "name": "python3"
  },
  "language_info": {
   "codemirror_mode": {
    "name": "ipython",
    "version": 3
   },
   "file_extension": ".py",
   "mimetype": "text/x-python",
   "name": "python",
   "nbconvert_exporter": "python",
   "pygments_lexer": "ipython3",
   "version": "3.12.1"
  },
  "orig_nbformat": 4
 },
 "nbformat": 4,
 "nbformat_minor": 2
}
