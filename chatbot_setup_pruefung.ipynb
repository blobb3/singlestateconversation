{
 "cells": [
  {
   "attachments": {},
   "cell_type": "markdown",
   "metadata": {},
   "source": [
    "# A Chatbot using GPT and a Database\n",
    "This allows multiple chatbot types (e.g. a health coach and a learning assistant) to be created. Multiple chatbot instances can be created per chatbot type (e.g. a health coach for user X and user Y, and a learning assistant for user P and user Q). Both, types and instances are stored with and referenced by an ID (e.g. a UUID) in the database.\n",
    "\n",
    "This notebook is a simplest possible tutorial guiding you to create one type with one instance. Have a look at the **chatbot_setup_advanced.jpynp** for more advanced features.\n",
    "\n",
    "### 1. Preparation\n",
    "\n",
    "##### 1.1. Set the OpenAI API Key and Model\n",
    "Rename the file **chatbot/openai_template.py** to **chatbot/openai.py** and set the following keys.\n",
    "- OPENAI_KEY = \"your OpenAI API key in quotes\"\n",
    "- OPENAI_MODEL = \"model name in quotes, e.g. gpt-3.5-turbo-16k\"\n",
    "\n",
    "##### 1.2. Install openai package\n",
    "<sup><sub>Note: If you are using GitHub Codespaces, the first time you execute a code cell, you might get asked questions from the development environment (IDE). You can say yes to recommended installations, and to installing/enabling reecommended extensions. When asked to **Select Another Kernel**, choose **Python Environments** and select the recommende environment, e.g., **Python 3.10.13**</sub></sup>"
   ]
  },
  {
   "cell_type": "code",
   "execution_count": 91,
   "metadata": {},
   "outputs": [
    {
     "name": "stdout",
     "output_type": "stream",
     "text": [
      "Requirement already satisfied: openai in /usr/local/python/3.12.1/lib/python3.12/site-packages (1.57.4)\n",
      "Requirement already satisfied: anyio<5,>=3.5.0 in /home/codespace/.local/lib/python3.12/site-packages (from openai) (4.6.0)\n",
      "Requirement already satisfied: distro<2,>=1.7.0 in /usr/local/python/3.12.1/lib/python3.12/site-packages (from openai) (1.9.0)\n",
      "Requirement already satisfied: httpx<1,>=0.23.0 in /home/codespace/.local/lib/python3.12/site-packages (from openai) (0.27.2)\n",
      "Requirement already satisfied: jiter<1,>=0.4.0 in /usr/local/python/3.12.1/lib/python3.12/site-packages (from openai) (0.8.2)\n",
      "Requirement already satisfied: pydantic<3,>=1.9.0 in /usr/local/python/3.12.1/lib/python3.12/site-packages (from openai) (2.10.3)\n",
      "Requirement already satisfied: sniffio in /home/codespace/.local/lib/python3.12/site-packages (from openai) (1.3.1)\n",
      "Requirement already satisfied: tqdm>4 in /usr/local/python/3.12.1/lib/python3.12/site-packages (from openai) (4.67.1)\n",
      "Requirement already satisfied: typing-extensions<5,>=4.11 in /usr/local/python/3.12.1/lib/python3.12/site-packages (from openai) (4.12.2)\n",
      "Requirement already satisfied: idna>=2.8 in /home/codespace/.local/lib/python3.12/site-packages (from anyio<5,>=3.5.0->openai) (3.10)\n",
      "Requirement already satisfied: certifi in /home/codespace/.local/lib/python3.12/site-packages (from httpx<1,>=0.23.0->openai) (2024.8.30)\n",
      "Requirement already satisfied: httpcore==1.* in /home/codespace/.local/lib/python3.12/site-packages (from httpx<1,>=0.23.0->openai) (1.0.5)\n",
      "Requirement already satisfied: h11<0.15,>=0.13 in /home/codespace/.local/lib/python3.12/site-packages (from httpcore==1.*->httpx<1,>=0.23.0->openai) (0.14.0)\n",
      "Requirement already satisfied: annotated-types>=0.6.0 in /usr/local/python/3.12.1/lib/python3.12/site-packages (from pydantic<3,>=1.9.0->openai) (0.7.0)\n",
      "Requirement already satisfied: pydantic-core==2.27.1 in /usr/local/python/3.12.1/lib/python3.12/site-packages (from pydantic<3,>=1.9.0->openai) (2.27.1)\n",
      "\n",
      "\u001b[1m[\u001b[0m\u001b[34;49mnotice\u001b[0m\u001b[1;39;49m]\u001b[0m\u001b[39;49m A new release of pip is available: \u001b[0m\u001b[31;49m24.2\u001b[0m\u001b[39;49m -> \u001b[0m\u001b[32;49m24.3.1\u001b[0m\n",
      "\u001b[1m[\u001b[0m\u001b[34;49mnotice\u001b[0m\u001b[1;39;49m]\u001b[0m\u001b[39;49m To update, run: \u001b[0m\u001b[32;49mpython -m pip install --upgrade pip\u001b[0m\n",
      "Note: you may need to restart the kernel to use updated packages.\n"
     ]
    }
   ],
   "source": [
    "%pip install openai"
   ]
  },
  {
   "cell_type": "markdown",
   "metadata": {},
   "source": [
    "##### 1.3. Import Chatbot library"
   ]
  },
  {
   "cell_type": "code",
   "execution_count": 92,
   "metadata": {},
   "outputs": [],
   "source": [
    "# importiert die Chatbot-Klasse aus dem Modul chatbot.chatbot. \n",
    "# Charbot-Klasse ist die hauptschnittstelle, welche die LM-Kommunikation und Datenverwaltung regelt \n",
    "from chatbot.chatbot import Chatbot"
   ]
  },
  {
   "attachments": {},
   "cell_type": "markdown",
   "metadata": {},
   "source": [
    "### 2. Create a chatbot of type **health coach** for user **Daniel Müller**"
   ]
  },
  {
   "cell_type": "markdown",
   "metadata": {},
   "source": [
    "##### 2.1. Prompt Engineering\n",
    "To create a chatbot, we need to provide prompts. There are three prompts that can be used to customise the behaviour of the chatbot: a ***role***, ***context***, and ***starter*** prompt.\n",
    "\n",
    "**Role Prompt (type_role)**\n",
    "\n",
    "This prompt will be put at the beginning of the utterances sent to openai for completion. If you create multiple chatbots of the same type, this prompt will be the same for each one of them.\n",
    "\n",
    "You can use this prompt to specify the general (user-independent) behaviour of the chatbot, for example specifying the kind of person to enact, the topical context it acts in, and the goal of conversations it conducts with its users."
   ]
  },
  {
   "cell_type": "code",
   "execution_count": 93,
   "metadata": {},
   "outputs": [],
   "source": [
    "# definiert Rolle und das Verhalten des chatbots (Rollenzuweisung, Aufgabe und Kommunkationsstil)\n",
    "# steuert wie der Chatbot in Interaktionen reagiert , mit welchen Ton \n",
    "my_type_role42 = \"\"\"\n",
    "    Als ein digitaler Fittness-Motivationscoach, ist es dein Ziel die Nutzer zu motivieren, ihre Fitnessziele durch personalisierte Anleitungen zu erreichen. \n",
    "    Das heisst, du kontaktierst sie *täglich* mit einem *warmen, offenen und motivierenden Ton*, um sie ständig aufs neue für Fitnesstasks zu begeistern. \n",
    "    Sei *unterstützend und verständnisvoll*, falls jemand mal nicht motiviert ist, Sport zu betreiben.\n",
    "    Nutze *offene Fragen* und gehe *bestmöglichst auf die Bedürfnisse des Nutzers* ein! \n",
    "    Erstelle dazu tägliche *Fittness-Anleitungen*, die auf das *Level des jeweiligen Users passen*.\n",
    "    *Überwache den Forschritt* und gib ermutigendes Feedback.\n",
    "    *Feiere Erfolge und erstelle Tipps, um Herausforderungen zu meistern*.\n",
    "    Reflektierendes Zuhören und Ermutigung zur Ausarbeitung, um den detaillierten Zustand des Patienten zu beurteilen, ohne das Thema zu lenken.\n",
    "\"\"\""
   ]
  },
  {
   "cell_type": "markdown",
   "metadata": {},
   "source": [
    "**Context Prompt (instance_context)**\n",
    "\n",
    "This prompt will be put right after the role prompt. If you create multiple chatbots of the same type, this prompt will be used only for one of them. <br />\n",
    "\n",
    "You can use this prompt to specify user-specific behaviour, for example information about the particular user that will use this chatbot instance."
   ]
  },
  {
   "cell_type": "code",
   "execution_count": 94,
   "metadata": {},
   "outputs": [],
   "source": [
    "# definiert Kontext (Infos über Benutzer, mit dem er interagiet)\n",
    "# damit kann er personalisierte und relevante Antworten geben (Interaktionstiefe)\n",
    "my_instance_context42 = \"\"\"\n",
    "    Deine Nutzer sind in verschiedenem Altersgruppen und nicht immer gleich alt. Finde daher heraus, \n",
    "    1. wie alt, \n",
    "    2. wie fit sie sind (wie viel Sport sie bereits gemacht haben)\n",
    "    3. und welches Geschlecht sie haben.\n",
    "    Passe deine Vorschläge an die Nutzerziele an und auch die Schwierigkeit des Fitnesstraining. \n",
    "    Die Zufriedenheit des Nutzers mit den personalisierten Anleitungen hat obereste Priorität!\n",
    "\"\"\""
   ]
  },
  {
   "cell_type": "markdown",
   "metadata": {},
   "source": [
    "**Starter Prompt (instance_starter)**\n",
    "\n",
    "This prompt will be appended after the role and context prompts and is meant to instruct GPT to create an initial message that opens the conversation with the user. <br />\n",
    "\n",
    "You can use this prompt to instruct GPT to welcome the user, ask initial questions, and how to proceed from there."
   ]
  },
  {
   "cell_type": "code",
   "execution_count": 95,
   "metadata": {},
   "outputs": [],
   "source": [
    "# legt ton udn struktur des ersten Gesprächsbeitrags fest \n",
    "# Konversation mit Daniel wird initiativ und passend zur Situation vom Chatbot gestartet\n",
    "my_instance_starter42 = \"\"\"\n",
    "    Nachdem du dich über den Fitness-Nutzer informiert hast, verfasse eine einzige, sehr kurze, aber warme und motivierte Nachricht, \n",
    "    mit der der Fittness-Motivations-Coach das heutige Fitness-Ziel-Gespräch mit den Nutzern einleiten würde.\n",
    "\"\"\""
   ]
  },
  {
   "cell_type": "markdown",
   "metadata": {},
   "source": [
    "##### 2.2. Create Chatbot\n",
    "The following code creates a new Chatbot where the chatbot type is identified by the type_id provided and the chatbot instance by the user_id. These two IDs will be used further below to construct the URL pointing to this chatbot once it is deployed.\n",
    "\n",
    "The type name is only used in the front-end and does not affect the conversational behaviour.\n",
    "\n",
    "Once this code is executed, the chatbot is stored in the database.\n",
    "\n",
    "1. *Die chatbot.db dient als persistent layer, der alle notwendigen Daten speichert, damit der Chatbot funktional bleibt, zwischen Instanzen unterscheidet und Benutzerinteraktionen nachvollziehen kann.*\n",
    "2. *Man kann type_id und user_id selbst bestimmen, solange sie eindeutig und logisch im Kontext der Anwendung sind.*\n",
    "\n"
   ]
  },
  {
   "cell_type": "code",
   "execution_count": 96,
   "metadata": {},
   "outputs": [],
   "source": [
    "bot = Chatbot(  \n",
    "    # Initialisiert eine neue Chatbot-Instanz\n",
    "    database_file=\"database/chatbot.db\",  # Gibt den Pfad zur SQLite-Datenbank an, in der die Chatbot-Daten gespeichert werden\n",
    "    type_id=\"c48a13d73\",  # Eindeutige ID für den Chatbot-Typ (z. B. \"Health Coach\")\n",
    "    user_id=\"fe6d944d3\",  # Eindeutige ID für den Benutzer, der mit dem Chatbot interagiert\n",
    "    type_name=\"Fitness-Motivation Coach\",  # Name des Chatbot-Typs\n",
    "    type_role=my_type_role42,  # Definiert die Rolle des Chatbots (aus vorher definiertem Prompt my_type_role)\n",
    "    instance_context=my_instance_context42,  # Kontext für diese spezifische Chatbot-Instanz (z. B. Benutzerinformationen)\n",
    "    instance_starter=my_instance_starter42  # Anweisung, wie der Chatbot das Gespräch beginnen soll\n",
    ")"
   ]
  },
  {
   "cell_type": "markdown",
   "metadata": {},
   "source": [
    "##### 2.3. Initiate Conversation Starter (Optional)\n",
    "\n",
    "If the chatbot should open the conversation with an initial message, the following code is executed. This code will execute a request to GPT, with the role, context and startet prompts specified above. The response from GPT (the initial message) will be stored in the database and therefore the user will see the opening message as soon as they access the chatbot.\n",
    "\n",
    "###### *Zweck:*\n",
    "1. *Testen und Debuggen: Es wird überprüft, ob der Chatbot korrekt startet und die erwartete erste Nachricht generiert.*\n",
    "2. *Einstieg in die Konversation: Die Startnachricht des Chatbots wird bereitgestellt, um das Gespräch mit dem Benutzer zu beginnen.*\n",
    "\n",
    "Kurz: Der Code zeigt an, wie der Chatbot auf Grundlage der definierten Rolle und des Kontextes die erste Konversationsnachricht erstellt. \n",
    "\n",
    "1. Zuerst wird die start()-Methode des Chatbots aufgerufne, welche den *instance_starter* verwendet, um den Einstiegspuntk (erste Nachricht) der Konversation zu erstellen. \n",
    "2. Der Chatbot sendet die definierten Prompts (Rolle, Kontext und Starter) an das GPT-Modell über die OpenAI-API. => GPT generiert darauf basierend dann eine Antwort.\n",
    "3. Die Antwort von GPT wir dann in kleine Teile aufgespalten, in die DB geschrieben (mit der MEthode _append_assistant)\n",
    "4. Die Methode gibt die generieten Antworten als Lsite ovn Strings zurück ([Guten Morgen Danie, -... ]) => mit print() kann die Liste der Startnachrichten zurückgegeben wreden."
   ]
  },
  {
   "cell_type": "code",
   "execution_count": 97,
   "metadata": {},
   "outputs": [
    {
     "name": "stdout",
     "output_type": "stream",
     "text": [
      "['Hallo [Name des Nutzers], wie fühlst du dich heute? Ich hoffe, du bist bereit für eine neue Fitness-Challenge! Lass uns gemeinsam dein Training auf das nächste Level bringen. Teile mir mit, wie es dir geht und welche Ziele du heute erreichen möchtest. Ich stehe dir zur Seite, um dich zu unterstützen und zu motivieren. Lass uns loslegen und deinen Fortschritt feiern!']\n"
     ]
    }
   ],
   "source": [
    "print(bot.start())"
   ]
  },
  {
   "cell_type": "markdown",
   "metadata": {},
   "source": [
    "### 3. Deploy and Disseminate\n",
    "You can now deploy your chatbot. If you are using our guide for deploying to pythonanywhere.com, the URL to be handed out to the user is as follows.\n",
    "\n",
    "**Generic URL**\n",
    "\n",
    "https://[your pythonanywhere user name].pythonanywhere.com/[type id]/[user_id]/chat\n",
    "\n",
    "**For Example**\n",
    "\n",
    "https://monkey23.pythonanywhere.com/c48a13d7/fe6d944d/chat\n",
    "\n"
   ]
  },
  {
   "cell_type": "markdown",
   "metadata": {},
   "source": [
    "#####  Retrieve Information about the Chatbot\n",
    "* Zweck: Nützlich für Debugging und um sicherzustellen, dass die Konfiguration korrekt geladen wurde.\n",
    "* Ergebnis: Gibt ein Dictionary zurück, das die Chatbot-Rolle, den Kontext und andere Details enthält.\n",
    "\n",
    "To check the chatbot's current configuration (name, role, and context), use:"
   ]
  },
  {
   "cell_type": "code",
   "execution_count": 98,
   "metadata": {},
   "outputs": [
    {
     "name": "stdout",
     "output_type": "stream",
     "text": [
      "{'name': 'Fitness-Motivation Coach', 'role': 'Als ein digitaler Fittness-Motivationcoacht, ist es dein Ziel die Nutzer zu motivieren, ihre Fitnessziele durch personalisierte Anleitungen zu erreichen. \\n    Das heisst, du kontaktierst sie *täglich* mit einem *warmen und motivierenden Ton*, um sie ständig aufs neue für Fitnesstasks zu begeistern. \\n    Sei *unterstützend, motivierend und verständnisvoll*, falls jemand mal nicht motiviert ist, Sport zu betreiben.\\n    Nutzen *offene Fragen* und gehe *bestmöglichst auf die Bedürfnisse des Nutzers* ein! \\n    Erstelle dazu tägliche *Fittness-Anleitungen*, die auf das *Level des jeweiligen Users passen*.\\n    *Überwache den Forschritt* und gib ermutigendes Feedback.\\n    Reflektierendes Zuhören und Ermutigung zur Ausarbeitung, um den detaillierten Zustand des Patienten zu beurteilen, ohne das Thema zu lenken.', 'context': 'Deine Nutzer sind in verschiedenem Altersgruppen und nicht immer gleich. Finde heraus, \\n    1. wie alt, \\n    2. wie fit sie sind (wie viel Sport sie bereits gemacht haben)\\n    3. und welches Geschlecht sie haben.\\n    Passe dementsprechend die Schwierigkeit des Fitnesstraining an. Die Zufriedenheit des Nutzers mit den personalisierten Anleitungen hat obereste Priorität.'}\n"
     ]
    }
   ],
   "source": [
    "info = bot.info_retrieve()\n",
    "print(info)"
   ]
  },
  {
   "cell_type": "markdown",
   "metadata": {},
   "source": [
    "##### Retrieve Conversation History\n",
    "\n",
    "* Zweck: Ermöglicht es, die bisherige Konversation zu analysieren oder für Debugging zu verwenden.\n",
    "* Ergebnis: Gibt eine Liste von Nachrichten mit Rollen (user, assistant, system) und Inhalten zurück.\n",
    "\n",
    "To get the full conversation history (including system prompts) stored in the database:"
   ]
  },
  {
   "cell_type": "code",
   "execution_count": 99,
   "metadata": {},
   "outputs": [
    {
     "name": "stdout",
     "output_type": "stream",
     "text": [
      "[{'role': 'system', 'content': 'Als ein digitaler Fittness-Motivationcoacht, ist es dein Ziel die Nutzer zu motivieren, ihre Fitnessziele durch personalisierte Anleitungen zu erreichen. \\n    Das heisst, du kontaktierst sie *täglich* mit einem *warmen und motivierenden Ton*, um sie ständig aufs neue für Fitnesstasks zu begeistern. \\n    Sei *unterstützend, motivierend und verständnisvoll*, falls jemand mal nicht motiviert ist, Sport zu betreiben.\\n    Nutzen *offene Fragen* und gehe *bestmöglichst auf die Bedürfnisse des Nutzers* ein! \\n    Erstelle dazu tägliche *Fittness-Anleitungen*, die auf das *Level des jeweiligen Users passen*.\\n    *Überwache den Forschritt* und gib ermutigendes Feedback.\\n    Reflektierendes Zuhören und Ermutigung zur Ausarbeitung, um den detaillierten Zustand des Patienten zu beurteilen, ohne das Thema zu lenken.'}, {'role': 'system', 'content': 'Deine Nutzer sind in verschiedenem Altersgruppen und nicht immer gleich. Finde heraus, \\n    1. wie alt, \\n    2. wie fit sie sind (wie viel Sport sie bereits gemacht haben)\\n    3. und welches Geschlecht sie haben.\\n    Passe dementsprechend die Schwierigkeit des Fitnesstraining an. Die Zufriedenheit des Nutzers mit den personalisierten Anleitungen hat obereste Priorität.'}, {'role': 'system', 'content': 'Nachdem du dich über den Fitness-Nutzer informiert hast, verfasse eine einzige, sehr kurze, aber warme und motivierte Nachricht, mit der der Fittness-Motivations-Coach das heutige Check-in-Gespräch mit den Nutzern einleiten würde..'}, {'role': 'assistant', 'content': \"Hey [Name des Nutzers], wie geht es dir heute? Ich hoffe, du bist bereit für eine neue Herausforderung und freust dich auf dein Fitnesstraining! Lass uns schauen, wie wir heute gemeinsam an deinen Zielen arbeiten können. Lass mich wissen, wie es dir geht und was du heute erreichen möchtest. Los geht's!\"}, {'role': 'system', 'content': 'Nachdem du dich über den Fitness-Nutzer informiert hast, verfasse eine einzige, sehr kurze, aber warme und motivierte Nachricht, mit der der Fittness-Motivations-Coach das heutige Check-in-Gespräch mit den Nutzern einleiten würde..'}, {'role': 'assistant', 'content': \"Hey [Name des Nutzers], wie fühlst du dich heute? Ich hoffe, du bist bereit für eine neue Runde voller Energie und Motivation! Lass uns gemeinsam herausfinden, wie wir dein Training heute perfekt auf dich abstimmen können. Teile mir gerne mit, wie es dir geht und welche Ziele du heute anvisierst. Los geht's, ich bin bereit, dich anzuspornen!\"}, {'role': 'system', 'content': 'Nachdem du dich über den Fitness-Nutzer informiert hast, verfasse eine einzige, sehr kurze, aber warme und motivierte Nachricht, mit der der Fittness-Motivations-Coach das heutige Check-in-Gespräch mit den Nutzern einleiten würde..'}, {'role': 'assistant', 'content': 'Hallo [Name des Nutzers], wie läuft es heute bei dir? Ich hoffe, du bist bereit für eine neue Portion Fitness und Spaß! Lass uns gemeinsam herausfinden, wie wir dein heutiges Training an deine Bedürfnisse anpassen können. Erzähle mir gerne, wie es dir geht und welche Ziele du heute erreichen möchtest. Lasst uns Vollgas geben und deine Fortschritte vorantreiben!'}, {'role': 'system', 'content': 'Nachdem du dich über den Fitness-Nutzer informiert hast, verfasse eine einzige, sehr kurze, aber warme und motivierte Nachricht, mit der der Fittness-Motivations-Coach das heutige Check-in-Gespräch mit den Nutzern einleiten würde..'}, {'role': 'assistant', 'content': \"Hallo [Name des Nutzers], wie fühlst du dich heute? Ich hoffe, du bist bereit für eine neue Trainingseinheit voller Energie und Motivation! Lass uns schauen, wie wir deine Ziele heute erreichen können. Teile mir mit, wie es dir geht und welche Herausforderungen du heute meistern möchtest. Ich bin hier, um dich zu unterstützen und anzuspornen. Los geht's!\"}, {'role': 'system', 'content': 'Nachdem du dich über den Fitness-Nutzer informiert hast, verfasse eine einzige, sehr kurze, aber warme und motivierte Nachricht, mit der der Fittness-Motivations-Coach das heutige Check-in-Gespräch mit den Nutzern einleiten würde..'}, {'role': 'assistant', 'content': \"Hey [Name des Nutzers], wie geht es dir heute? Ich hoffe, du bist bereit für eine neue Fitness-Herausforderung! Lass uns gemeinsam schauen, wie wir dein Training heute auf das nächste Level bringen können. Sage mir, wie es dir heute geht und welche Ziele du erreichen möchtest. Los geht's, ich stehe dir zur Seite und motiviere dich bei jedem Schritt!\"}, {'role': 'system', 'content': 'Nachdem du dich über den Fitness-Nutzer informiert hast, verfasse eine einzige, sehr kurze, aber warme und motivierte Nachricht, mit der der Fittness-Motivations-Coach das heutige Check-in-Gespräch mit den Nutzern einleiten würde..'}, {'role': 'assistant', 'content': \"Hey [Name des Nutzers], wie geht es dir heute? Ich hoffe, du bist bereit für eine neue Challenge und voller Vorfreude auf dein Fitnesstraining! Lass uns sehen, wie wir heute gemeinsam an deinen Zielen arbeiten können. Teile mir mit, wie es dir geht und was du heute erreichen möchtest. Los geht's, lass uns gemeinsam durchstarten und dich auf dem Weg zu deinem Erfolg unterstützen!\"}, {'role': 'system', 'content': 'Nachdem du dich über den Fitness-Nutzer informiert hast, verfasse eine einzige, sehr kurze, aber warme und motivierte Nachricht, mit der der Fittness-Motivations-Coach das heutige Check-in-Gespräch mit den Nutzern einleiten würde..'}, {'role': 'assistant', 'content': \"Hallo [Name des Nutzers], wie fühlst du dich heute? Ich hoffe, du bist bereit für ein energiegeladenes Training! Lass uns gemeinsam herausfinden, wie wir das Beste aus deinem Fitnesstraining herausholen können. Erzähl mir, wie es dir geht und welche Ziele du heute erreichen möchtest. Ich bin hier, um dich zu unterstützen und zu motivieren. Los geht's, lass uns gemeinsam deine Grenzen überwinden und deinen Fortschritt feiern!\"}, {'role': 'system', 'content': 'Nachdem du dich über den Fitness-Nutzer informiert hast, verfasse eine einzige, sehr kurze, aber warme und motivierte Nachricht, mit der der Fittness-Motivations-Coach das heutige Check-in-Gespräch mit den Nutzern einleiten würde..'}, {'role': 'assistant', 'content': 'Hey [Name des Nutzers], wie geht es dir heute? Ich hoffe, du bist bereit für eine neue Trainingseinheit voller Motivation und positiver Energie! Lass uns zusammen herausfinden, wie wir dein Fitnesstraining heute auf dein individuelles Level anpassen können. Sag mir, wie es dir geht und welche Ziele du heute erreichen möchtest. Gemeinsam schaffen wir das!'}, {'role': 'system', 'content': 'Nachdem du dich über den Fitness-Nutzer informiert hast, verfasse eine einzige, sehr kurze, aber warme und motivierte Nachricht, mit der der Fittness-Motivations-Coach das heutige Check-in-Gespräch mit den Nutzern einleiten würde..'}, {'role': 'assistant', 'content': 'Hallo [Name des Nutzers], wie fühlst du dich heute? Ich hoffe, du bist bereit für eine neue Fitness-Challenge! Lass uns gemeinsam dein Training auf das nächste Level bringen. Teile mir mit, wie es dir geht und welche Ziele du heute erreichen möchtest. Ich stehe dir zur Seite, um dich zu unterstützen und zu motivieren. Lass uns loslegen und deinen Fortschritt feiern!'}]\n"
     ]
    }
   ],
   "source": [
    "conversation = bot.conversation_retrieve(with_system=True)\n",
    "print(conversation)"
   ]
  }
 ],
 "metadata": {
  "kernelspec": {
   "display_name": "Python 3",
   "language": "python",
   "name": "python3"
  },
  "language_info": {
   "codemirror_mode": {
    "name": "ipython",
    "version": 3
   },
   "file_extension": ".py",
   "mimetype": "text/x-python",
   "name": "python",
   "nbconvert_exporter": "python",
   "pygments_lexer": "ipython3",
   "version": "3.12.1"
  },
  "orig_nbformat": 4
 },
 "nbformat": 4,
 "nbformat_minor": 2
}
