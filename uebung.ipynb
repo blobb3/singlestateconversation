{
 "cells": [
  {
   "cell_type": "markdown",
   "metadata": {},
   "source": [
    "## Uebungen für Prüfung\n",
    "\n",
    "### 1. Chatbot-Konfiguration und Prompt Engineering\n",
    "Aufgabe: Erstelle einen Chatbot für einen spezifischen Anwendungsfall mit passenden Prompts."
   ]
  },
  {
   "cell_type": "code",
   "execution_count": null,
   "metadata": {},
   "outputs": [],
   "source": [
    "# Beispiel:\n",
    "my_type_role = \"\"\"\n",
    "Du bist ein digitaler Studienberater für Informatikstudenten. \n",
    "Gib hilfreiche Ratschläge zu Kurswahl, Studienplanung und Karrieremöglichkeiten.\n",
    "Bleibe empathisch und motivierend.\n",
    "\"\"\"\n",
    "\n",
    "my_instance_context = \"\"\"\n",
    "Der Studierende ist Max Müller, 20 Jahre alt, im 3. Semester Informatik.\n",
    "Er hat Schwierigkeiten, die richtigen Vertiefungsfächer zu wählen.\n",
    "\"\"\"\n",
    "\n",
    "my_instance_starter = \"\"\"\n",
    "Stelle dich vor und frage Max nach seinen aktuellen Herausforderungen im Studium.\n",
    "Zeige Interesse an seinen Studienzielen und Interessen.\n",
    "\"\"\"\n",
    "\n",
    "bot = Chatbot(\n",
    "    database_file=\"database/chatbot.db\", \n",
    "    type_id=\"studienberater\",\n",
    "    user_id=\"max_mueller\",\n",
    "    type_name=\"Studienberater\",\n",
    "    type_role=my_type_role,\n",
    "    instance_context=my_instance_context,\n",
    "    instance_starter=my_instance_starter\n",
    ")"
   ]
  },
  {
   "cell_type": "markdown",
   "metadata": {},
   "source": [
    "### 2. Mehrere Chatbot-Instanzen erstellen\n",
    "Aufgabe: Generiere mehrere Chatbot-Instanzen für verschiedene Nutzer eines Chatbot-Typs.\n"
   ]
  },
  {
   "cell_type": "code",
   "execution_count": null,
   "metadata": {},
   "outputs": [],
   "source": [
    "# Beispiel: Gesundheits-Coaching Chatbots\n",
    "\n",
    "# Chatbot-Typ definieren\n",
    "health_coach_role = \"\"\"\n",
    "Du bist ein digitaler Gesundheitscoach, der Patienten \n",
    "bei Gewichtsmanagement und Lebensstiländerungen unterstützt.\n",
    "\"\"\"\n",
    "\n",
    "# Mehrere Instanzen mit individuellen Kontexten\n",
    "users = [\n",
    "    {\n",
    "        \"id\": \"daniel_m\",\n",
    "        \"context\": \"Daniel ist 52, kämpft mit Adipositas und macht intermittierendes Fasten.\",\n",
    "        \"starter\": \"Frage Daniel nach seinem aktuellen Fortschritt und Herausforderungen.\"\n",
    "    },\n",
    "    {\n",
    "        \"id\": \"lisa_s\", \n",
    "        \"context\": \"Lisa ist 35, möchte nach der Schwangerschaft abnehmen.\",\n",
    "        \"starter\": \"Motiviere Lisa und erkunde ihre Fitness-Ziele.\"\n",
    "    }\n",
    "]\n",
    "\n",
    "for user in users:\n",
    "    bot = Chatbot(\n",
    "        database_file=\"database/chatbot.db\",\n",
    "        type_id=\"health_coach\",\n",
    "        user_id=user[\"id\"],\n",
    "        type_name=\"Gesundheitscoach\",\n",
    "        type_role=health_coach_role,\n",
    "        instance_context=user[\"context\"],\n",
    "        instance_starter=user[\"starter\"]\n",
    "    )\n",
    "    bot.start()"
   ]
  },
  {
   "cell_type": "markdown",
   "metadata": {},
   "source": [
    "### 3. Prompt-Variationen und Kontextanpassung\n",
    "Aufgabe: Zeige, wie sich der Chatbot-Charakter durch Prompts verändert.\n"
   ]
  },
  {
   "cell_type": "code",
   "execution_count": null,
   "metadata": {},
   "outputs": [],
   "source": [
    "# Verschiedene Rollen für denselben Chatbot-Typ\n",
    "\n",
    "# Professioneller Coaching-Stil\n",
    "professional_role = \"\"\"\n",
    "Du bist ein professioneller Karriereberater. \n",
    "Analysiere Karriereziele strukturiert und gib präzise Ratschläge.\n",
    "\"\"\"\n",
    "\n",
    "# Empathischer, motivierender Stil\n",
    "empathetic_role = \"\"\"\n",
    "Du bist ein einfühlsamer Karriere-Mentor. \n",
    "Höre aktiv zu und motiviere den Ratsuchenden.\n",
    "\"\"\"\n",
    "\n",
    "# Kreativer, inspirierender Stil \n",
    "creative_role = \"\"\"\n",
    "Du bist ein inspirierender Karriere-Coach. \n",
    "Ermutige zu unkonventionellen Karrierewegen und Selbstentdeckung.\n",
    "\"\"\""
   ]
  },
  {
   "cell_type": "markdown",
   "metadata": {},
   "source": [
    "### 4. Conversation Retrieval und Analyse\n",
    "Aufgabe: Rufe Gesprächsverläufe ab und analysiere sie."
   ]
  },
  {
   "cell_type": "code",
   "execution_count": null,
   "metadata": {},
   "outputs": [],
   "source": [
    "# Gesprächsverlauf abrufen\n",
    "conversation = bot.conversation_retrieve()\n",
    "\n",
    "# Mit Systemprompts\n",
    "full_conversation = bot.conversation_retrieve(with_system=True)"
   ]
  },
  {
   "cell_type": "markdown",
   "metadata": {},
   "source": [
    "### 5. Chatbot Reset und Neustart\n",
    "Aufgabe: Implementiere das Zurücksetzen eines Gesprächs."
   ]
  },
  {
   "cell_type": "code",
   "execution_count": null,
   "metadata": {},
   "outputs": [],
   "source": [
    "# Gesprächsverlauf zurücksetzen\n",
    "bot.reset()\n",
    "\n",
    "# Neuen Startpunkt generieren\n",
    "initial_message = bot.start()"
   ]
  },
  {
   "cell_type": "markdown",
   "metadata": {},
   "source": [
    "### Dynamische Chatbot-Konfiguration mit Zustandsmanagement\n",
    "Aufgabe: Wie implementierst du einen zustandsbasierten Chatbot?"
   ]
  },
  {
   "cell_type": "code",
   "execution_count": null,
   "metadata": {},
   "outputs": [],
   "source": [
    "# Chatbot für adaptive Lernunterstützung\n",
    "adaptive_learning_role = \"\"\"\n",
    "Du bist ein adaptiver Lernassistent, der sich den Lernfortschritten \n",
    "und -bedürfnissen des Nutzers anpasst.\n",
    "\"\"\"\n",
    "\n",
    "class AdaptiveLearningChatbot:\n",
    "    def __init__(self, user_id):\n",
    "        self.bot = Chatbot(\n",
    "            database_file=\"database/learning.db\",\n",
    "            type_id=\"adaptive_learning\",\n",
    "            user_id=user_id,\n",
    "            type_name=\"Lernassistent\",\n",
    "            type_role=adaptive_learning_role\n",
    "        )\n",
    "        self.learning_state = {\n",
    "            \"current_subject\": None,\n",
    "            \"difficulty_level\": \"beginner\",\n",
    "            \"progress\": {}\n",
    "        }\n",
    "\n",
    "    def adjust_difficulty(self, performance_metrics):\n",
    "        # Dynamische Anpassung des Prompt-Kontexts\n",
    "        if performance_metrics['accuracy'] > 0.8:\n",
    "            self.learning_state['difficulty_level'] = \"advanced\"\n",
    "            self.bot._persistence.message_save(\n",
    "                \"system\", \n",
    "                f\"Schwierigkeitsgrad erhöht auf {self.learning_state['difficulty_level']}\"\n",
    "            )"
   ]
  },
  {
   "cell_type": "markdown",
   "metadata": {},
   "source": [
    "### 7. Komplexes Prompt-Engineering mit Mehrsprachigkeit\n",
    "Aufgabe: Welche Strategien wendest du für mehrsprachige Chatbots an?"
   ]
  },
  {
   "cell_type": "code",
   "execution_count": null,
   "metadata": {},
   "outputs": [],
   "source": [
    "# Multilingualer Kulturberater\n",
    "multilingual_role = \"\"\"\n",
    "Du bist ein kultursensibler Reiseberater, der Nutzern \n",
    "kontextspezifische Informationen in ihrer Muttersprache gibt.\n",
    "Passe deinen Kommunikationsstil an die jeweilige Kultur an.\n",
    "\"\"\"\n",
    "\n",
    "def create_cultural_chatbot(language, destination):\n",
    "    culture_specific_context = {\n",
    "        \"de_DE_japan\": \"\"\"\n",
    "        Zielgruppe: Deutsche Reisende nach Japan\n",
    "        Kulturelle Besonderheiten:\n",
    "        - Respektvolle Kommunikation\n",
    "        - Betonung von Höflichkeit\n",
    "        - Japanische Begrüßungs- und Verhaltensregeln\n",
    "        \"\"\",\n",
    "        \"en_US_india\": \"\"\"\n",
    "        Target: US Travelers to India\n",
    "        Cultural Nuances:\n",
    "        - Understanding diverse regional differences\n",
    "        - Dress code recommendations\n",
    "        - Communication etiquette\n",
    "        \"\"\"\n",
    "    }\n",
    "\n",
    "    bot = Chatbot(\n",
    "        database_file=\"database/travel_advisor.db\",\n",
    "        type_id=f\"cultural_advisor_{language}\",\n",
    "        user_id=destination,\n",
    "        type_name=\"Kulturberater\",\n",
    "        type_role=multilingual_role,\n",
    "        instance_context=culture_specific_context.get(f\"{language}_{destination}\", \"\"),\n",
    "        instance_starter=f\"Begrüße den Nutzer auf {language} und biete Reiseunterstützung an.\"\n",
    "    )\n",
    "    return bot"
   ]
  },
  {
   "cell_type": "markdown",
   "metadata": {},
   "source": [
    "### 8. Zustandsmaschine für Komplexe Gesprächsführung\n",
    "Aufgabe: Wie gestaltest du adaptive Lernsysteme mit Chatbots?"
   ]
  },
  {
   "cell_type": "code",
   "execution_count": null,
   "metadata": {},
   "outputs": [],
   "source": [
    "class TherapeuticChatbot:\n",
    "    STATES = {\n",
    "        \"INITIAL_ASSESSMENT\": {\n",
    "            \"prompt\": \"\"\"\n",
    "            Führe ein erstes sensitives Gespräch zur \n",
    "            psychischen Gesundheitseinschätzung.\n",
    "            \"\"\",\n",
    "            \"transition_criteria\": \"emotionale_offenheit\"\n",
    "        },\n",
    "        \"DEEP_EXPLORATION\": {\n",
    "            \"prompt\": \"\"\"\n",
    "            Ermutige zu tieferen Einblicken in \n",
    "            emotionale Herausforderungen.\n",
    "            \"\"\",\n",
    "            \"transition_criteria\": \"vertrauensaufbau\"\n",
    "        },\n",
    "        \"COPING_STRATEGIES\": {\n",
    "            \"prompt\": \"\"\"\n",
    "            Entwickle gemeinsam Bewältigungsstrategien \n",
    "            und positive Handlungsoptionen.\n",
    "            \"\"\"\n",
    "        }\n",
    "    }\n",
    "\n",
    "    def __init__(self, user_id):\n",
    "        self.current_state = \"INITIAL_ASSESSMENT\"\n",
    "        self.bot = Chatbot(\n",
    "            database_file=\"database/therapy.db\",\n",
    "            type_id=\"therapeutic_support\",\n",
    "            user_id=user_id\n",
    "        )\n",
    "\n",
    "    def transition_state(self, trigger):\n",
    "        # Dynamische Zustandsänderung basierend auf Gesprächsverlauf\n",
    "        if trigger == \"emotionale_offenheit\":\n",
    "            self.current_state = \"DEEP_EXPLORATION\"\n",
    "            self.update_prompt()"
   ]
  }
 ],
 "metadata": {
  "kernelspec": {
   "display_name": "Python 3",
   "language": "python",
   "name": "python3"
  },
  "language_info": {
   "codemirror_mode": {
    "name": "ipython",
    "version": 3
   },
   "file_extension": ".py",
   "mimetype": "text/x-python",
   "name": "python",
   "nbconvert_exporter": "python",
   "pygments_lexer": "ipython3",
   "version": "3.12.1"
  }
 },
 "nbformat": 4,
 "nbformat_minor": 2
}
